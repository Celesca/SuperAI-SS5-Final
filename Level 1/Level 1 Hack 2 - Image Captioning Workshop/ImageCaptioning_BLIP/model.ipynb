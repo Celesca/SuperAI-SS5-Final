{
 "cells": [
  {
   "cell_type": "code",
   "execution_count": 1,
   "metadata": {},
   "outputs": [
    {
     "data": {
      "text/html": [
       "<div>\n",
       "<style scoped>\n",
       "    .dataframe tbody tr th:only-of-type {\n",
       "        vertical-align: middle;\n",
       "    }\n",
       "\n",
       "    .dataframe tbody tr th {\n",
       "        vertical-align: top;\n",
       "    }\n",
       "\n",
       "    .dataframe thead th {\n",
       "        text-align: right;\n",
       "    }\n",
       "</style>\n",
       "<table border=\"1\" class=\"dataframe\">\n",
       "  <thead>\n",
       "    <tr style=\"text-align: right;\">\n",
       "      <th></th>\n",
       "      <th>image_id</th>\n",
       "      <th>caption</th>\n",
       "    </tr>\n",
       "  </thead>\n",
       "  <tbody>\n",
       "    <tr>\n",
       "      <th>0</th>\n",
       "      <td>1015</td>\n",
       "      <td>system\\nYou are a helpful assistant.\\nuser\\nคิ...</td>\n",
       "    </tr>\n",
       "    <tr>\n",
       "      <th>1</th>\n",
       "      <td>1043</td>\n",
       "      <td>system\\nYou are a helpful assistant.\\nuser\\nคิ...</td>\n",
       "    </tr>\n",
       "    <tr>\n",
       "      <th>2</th>\n",
       "      <td>572</td>\n",
       "      <td>system\\nYou are a helpful assistant.\\nuser\\nคิ...</td>\n",
       "    </tr>\n",
       "    <tr>\n",
       "      <th>3</th>\n",
       "      <td>305</td>\n",
       "      <td>system\\nYou are a helpful assistant.\\nuser\\nคิ...</td>\n",
       "    </tr>\n",
       "    <tr>\n",
       "      <th>4</th>\n",
       "      <td>1986</td>\n",
       "      <td>system\\nYou are a helpful assistant.\\nuser\\nคิ...</td>\n",
       "    </tr>\n",
       "    <tr>\n",
       "      <th>...</th>\n",
       "      <td>...</td>\n",
       "      <td>...</td>\n",
       "    </tr>\n",
       "    <tr>\n",
       "      <th>1995</th>\n",
       "      <td>1495</td>\n",
       "      <td>system\\nYou are a helpful assistant.\\nuser\\nคิ...</td>\n",
       "    </tr>\n",
       "    <tr>\n",
       "      <th>1996</th>\n",
       "      <td>197</td>\n",
       "      <td>system\\nYou are a helpful assistant.\\nuser\\nคิ...</td>\n",
       "    </tr>\n",
       "    <tr>\n",
       "      <th>1997</th>\n",
       "      <td>1825</td>\n",
       "      <td>system\\nYou are a helpful assistant.\\nuser\\nคิ...</td>\n",
       "    </tr>\n",
       "    <tr>\n",
       "      <th>1998</th>\n",
       "      <td>1689</td>\n",
       "      <td>system\\nYou are a helpful assistant.\\nuser\\nคิ...</td>\n",
       "    </tr>\n",
       "    <tr>\n",
       "      <th>1999</th>\n",
       "      <td>1544</td>\n",
       "      <td>system\\nYou are a helpful assistant.\\nuser\\nคิ...</td>\n",
       "    </tr>\n",
       "  </tbody>\n",
       "</table>\n",
       "<p>2000 rows × 2 columns</p>\n",
       "</div>"
      ],
      "text/plain": [
       "      image_id                                            caption\n",
       "0         1015  system\\nYou are a helpful assistant.\\nuser\\nคิ...\n",
       "1         1043  system\\nYou are a helpful assistant.\\nuser\\nคิ...\n",
       "2          572  system\\nYou are a helpful assistant.\\nuser\\nคิ...\n",
       "3          305  system\\nYou are a helpful assistant.\\nuser\\nคิ...\n",
       "4         1986  system\\nYou are a helpful assistant.\\nuser\\nคิ...\n",
       "...        ...                                                ...\n",
       "1995      1495  system\\nYou are a helpful assistant.\\nuser\\nคิ...\n",
       "1996       197  system\\nYou are a helpful assistant.\\nuser\\nคิ...\n",
       "1997      1825  system\\nYou are a helpful assistant.\\nuser\\nคิ...\n",
       "1998      1689  system\\nYou are a helpful assistant.\\nuser\\nคิ...\n",
       "1999      1544  system\\nYou are a helpful assistant.\\nuser\\nคิ...\n",
       "\n",
       "[2000 rows x 2 columns]"
      ]
     },
     "execution_count": 1,
     "metadata": {},
     "output_type": "execute_result"
    }
   ],
   "source": [
    "import pandas as pd\n",
    "\n",
    "df = pd.read_csv('submission (22).csv')\n",
    "df"
   ]
  },
  {
   "cell_type": "code",
   "execution_count": 2,
   "metadata": {},
   "outputs": [
    {
     "data": {
      "text/plain": [
       "'system\\nYou are a helpful assistant.\\nuser\\nคิดแคปชั่นรูปนี้ให้หน่อย\\nassistant\\n\"สัตว์ทะเลสีสันสดใสบนพื้นผิวหินใต้น้ำ\"'"
      ]
     },
     "execution_count": 2,
     "metadata": {},
     "output_type": "execute_result"
    }
   ],
   "source": [
    "df.iloc[0].caption"
   ]
  },
  {
   "cell_type": "code",
   "execution_count": 5,
   "metadata": {},
   "outputs": [
    {
     "name": "stdout",
     "output_type": "stream",
     "text": [
      "สัตว์ทะเลสีสันสดใสบนพื้นผิวหินใต้น้ำ\n"
     ]
    }
   ],
   "source": [
    "text = df.iloc[0].caption\n",
    "cleaned_text = text.split(\"assistant\\n\")[1].strip('\"')\n",
    "print(cleaned_text)  # Output: สัตว์ทะเลสีสันสดใสบนพื้นผิวหินใต้น้ำ"
   ]
  },
  {
   "cell_type": "code",
   "execution_count": 6,
   "metadata": {},
   "outputs": [],
   "source": [
    "def clean_caption(text):\n",
    "    # Split by assistant\\n and get second part, then remove quotes\n",
    "    return text.split(\"assistant\\n\")[1].strip('\"')\n",
    "\n",
    "# Apply function to caption column\n",
    "df['caption'] = df['caption'].apply(clean_caption)\n",
    "\n",
    "# Save to new CSV\n",
    "df.to_csv('cleaned_captions.csv', index=False)"
   ]
  },
  {
   "cell_type": "code",
   "execution_count": 7,
   "metadata": {},
   "outputs": [
    {
     "data": {
      "text/html": [
       "<div>\n",
       "<style scoped>\n",
       "    .dataframe tbody tr th:only-of-type {\n",
       "        vertical-align: middle;\n",
       "    }\n",
       "\n",
       "    .dataframe tbody tr th {\n",
       "        vertical-align: top;\n",
       "    }\n",
       "\n",
       "    .dataframe thead th {\n",
       "        text-align: right;\n",
       "    }\n",
       "</style>\n",
       "<table border=\"1\" class=\"dataframe\">\n",
       "  <thead>\n",
       "    <tr style=\"text-align: right;\">\n",
       "      <th></th>\n",
       "      <th>image_id</th>\n",
       "      <th>caption</th>\n",
       "    </tr>\n",
       "  </thead>\n",
       "  <tbody>\n",
       "    <tr>\n",
       "      <th>0</th>\n",
       "      <td>1015</td>\n",
       "      <td>สัตว์ทะเลสีสันสดใสบนพื้นผิวหินใต้น้ำ</td>\n",
       "    </tr>\n",
       "    <tr>\n",
       "      <th>1</th>\n",
       "      <td>1043</td>\n",
       "      <td>ชิมชิม! แก้วกาแฟเย็นนี้กำลังรอคุณอยู่ในมื้อเช้...</td>\n",
       "    </tr>\n",
       "    <tr>\n",
       "      <th>2</th>\n",
       "      <td>572</td>\n",
       "      <td>ดอกไม้สีเหลืองสดใส่ใจประดับอย่างสวยงามบนพื้นทร...</td>\n",
       "    </tr>\n",
       "    <tr>\n",
       "      <th>3</th>\n",
       "      <td>305</td>\n",
       "      <td>วิวที่น่ารัก ๆ ของเมืองที่มีแม่น้ำไหลผ่านและมี...</td>\n",
       "    </tr>\n",
       "    <tr>\n",
       "      <th>4</th>\n",
       "      <td>1986</td>\n",
       "      <td>นกกระสาที่นอนบนพื้นดินที่เต็มไปด้วยหญ้าสีเขียว</td>\n",
       "    </tr>\n",
       "    <tr>\n",
       "      <th>...</th>\n",
       "      <td>...</td>\n",
       "      <td>...</td>\n",
       "    </tr>\n",
       "    <tr>\n",
       "      <th>1995</th>\n",
       "      <td>1495</td>\n",
       "      <td>Snake encounter in the forest: A green snake a...</td>\n",
       "    </tr>\n",
       "    <tr>\n",
       "      <th>1996</th>\n",
       "      <td>197</td>\n",
       "      <td>ดอกไม้ที่งดงามในธรรมชาติ</td>\n",
       "    </tr>\n",
       "    <tr>\n",
       "      <th>1997</th>\n",
       "      <td>1825</td>\n",
       "      <td>วัดที่มีสถาปัตยกรรมที่งดงามและประดิษฐ์ด้วยสีสั...</td>\n",
       "    </tr>\n",
       "    <tr>\n",
       "      <th>1998</th>\n",
       "      <td>1689</td>\n",
       "      <td>อร่อยดั่งใจ! ผัดหมูผักสดๆ สดชื่น รสชาติอร่อยที...</td>\n",
       "    </tr>\n",
       "    <tr>\n",
       "      <th>1999</th>\n",
       "      <td>1544</td>\n",
       "      <td>ภายในวัดที่ประดับด้วยสิ่งศักดิ์สิทธิ์และดอกไม้...</td>\n",
       "    </tr>\n",
       "  </tbody>\n",
       "</table>\n",
       "<p>2000 rows × 2 columns</p>\n",
       "</div>"
      ],
      "text/plain": [
       "      image_id                                            caption\n",
       "0         1015               สัตว์ทะเลสีสันสดใสบนพื้นผิวหินใต้น้ำ\n",
       "1         1043  ชิมชิม! แก้วกาแฟเย็นนี้กำลังรอคุณอยู่ในมื้อเช้...\n",
       "2          572  ดอกไม้สีเหลืองสดใส่ใจประดับอย่างสวยงามบนพื้นทร...\n",
       "3          305  วิวที่น่ารัก ๆ ของเมืองที่มีแม่น้ำไหลผ่านและมี...\n",
       "4         1986     นกกระสาที่นอนบนพื้นดินที่เต็มไปด้วยหญ้าสีเขียว\n",
       "...        ...                                                ...\n",
       "1995      1495  Snake encounter in the forest: A green snake a...\n",
       "1996       197                           ดอกไม้ที่งดงามในธรรมชาติ\n",
       "1997      1825  วัดที่มีสถาปัตยกรรมที่งดงามและประดิษฐ์ด้วยสีสั...\n",
       "1998      1689  อร่อยดั่งใจ! ผัดหมูผักสดๆ สดชื่น รสชาติอร่อยที...\n",
       "1999      1544  ภายในวัดที่ประดับด้วยสิ่งศักดิ์สิทธิ์และดอกไม้...\n",
       "\n",
       "[2000 rows x 2 columns]"
      ]
     },
     "execution_count": 7,
     "metadata": {},
     "output_type": "execute_result"
    }
   ],
   "source": [
    "df"
   ]
  },
  {
   "cell_type": "code",
   "execution_count": null,
   "metadata": {},
   "outputs": [],
   "source": []
  }
 ],
 "metadata": {
  "kernelspec": {
   "display_name": "base",
   "language": "python",
   "name": "python3"
  },
  "language_info": {
   "codemirror_mode": {
    "name": "ipython",
    "version": 3
   },
   "file_extension": ".py",
   "mimetype": "text/x-python",
   "name": "python",
   "nbconvert_exporter": "python",
   "pygments_lexer": "ipython3",
   "version": "3.12.2"
  }
 },
 "nbformat": 4,
 "nbformat_minor": 2
}
